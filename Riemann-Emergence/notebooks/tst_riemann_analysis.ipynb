import numpy as np
import networkx as nx
from scipy.sparse import diags, identity
from scipy.sparse.linalg import eigsh
from scipy.special import erf
import matplotlib.pyplot as plt
