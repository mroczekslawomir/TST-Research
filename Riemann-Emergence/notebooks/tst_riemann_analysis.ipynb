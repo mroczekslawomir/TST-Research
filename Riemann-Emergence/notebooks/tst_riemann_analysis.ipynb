# import numpy as np
# import networkx as nx
# from scipy.sparse import diags, identity
# from scipy.sparse.linalg import eigsh
# from scipy.special import erf
# import matplotlib.pyplot as plt

{
 "cells": [
  {
   "cell_type": "markdown",
   "metadata": {},
   "source": [
    "# TST Riemann Hypothesis Analysis\n",
    "This notebook tests the emergence of the Riemann Hypothesis in Temporal Synchronization Theory (TST)."
   ]
  },
  {
   "cell_type": "code",
   "execution_count": null,
   "metadata": {},
   "outputs": [],
   "source": [
    "import numpy as np\n",
    "import networkx as nx\n",
    "from scipy.sparse import diags, identity\n",
    "from scipy.sparse.linalg import eigsh\n",
    "from scipy.special import erf\n",
    "import matplotlib.pyplot as plt"
   ]
  },
  {
   "cell_type": "code",
   "execution_count": null,
   "metadata": {},
   "outputs": [],
   "source": [
    "# Generate Watts–Strogatz network\n",
    "N = 1000\n",
    "k = 4\n",
    "p = 0.1\n",
    "G = nx.watts_strogatz_graph(N, k, p, seed=42)"
   ]
  },
  {
   "cell_type": "code",
   "execution_count": null,
   "metadata": {},
   "outputs": [],
   "source": [
    "# Build desynchronization operator Î\n",
    "L = nx.laplacian_matrix(G).astype(float)\n",
    "degrees = np.array([d for _, d in G.degree()])\n",
    "I_sync = identity(N, format='csr') * 1.0\n",
    "I_ent = diags(0.1 * degrees, 0, format='csr')\n",
    "I_operator = 1.0 * L + I_sync + I_ent"
   ]
  },
  {
   "cell_type": "code",
   "execution_count": null,
   "metadata": {},
   "outputs": [],
   "source": [
    "# Compute spectrum\n",
    "eigenvalues, _ = eigsh(I_operator, k=100, which='SM')\n",
    "norm = (eigenvalues - np.min(eigenvalues)) / (np.max(eigenvalues) - np.min(eigenvalues))"
   ]
  },
  {
   "cell_type": "code",
   "execution_count": null,
   "metadata": {},
   "outputs": [],
   "source": [
    "# Plot histogram\n",
    "plt.figure(figsize=(10, 6))\n",
    "plt.hist(norm, bins=50, color='skyblue', edgecolor='black')\n",
    "plt.axvline(0.5, color='red', linestyle='--', label='Re(s) = 0.5')\n",
    "plt.title(\"Normalized Eigenvalue Spectrum\")\n",
    "plt.xlabel(\"Normalized Eigenvalue\")\n",
    "plt.ylabel(\"Count\")\n",
    "plt.legend()\n",
    "plt.grid(True)\n",
    "plt.show()"
   ]
  },
  {
   "cell_type": "code",
   "execution_count": null,
   "metadata": {},
   "outputs": [],
   "source": [
    "# Compute p-value\n",
    "in_band = np.sum((norm >= 0.45) & (norm <= 0.55))\n",
    "expected = 100 * 0.1\n",
    "z = (in_band - expected) / np.sqrt(expected)\n",
    "p_value = 2 * (1 - 0.5 * (1 + erf(z / np.sqrt(2)))) if in_band > expected else 1.0\n",
    "print(f\"Eigenvalues in [0.45, 0.55]: {in_band}/100\")\n",
    "print(f\"p-value: {p_value:.2e}\")"
   ]
  }
 ],
 "metadata": {
  "kernelspec": {
   "display_name": "Python 3",
   "language": "python",
   "name": "python3"
  },
  "language_info": {
   "name": "python",
   "version": "3.9"
  }
 },
 "nbformat": 4,
 "nbformat_minor": 5
}

